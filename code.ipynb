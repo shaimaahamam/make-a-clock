{
  "cells": [
    {
      "cell_type": "code",
      "execution_count": null,
      "id": "b5278510",
      "metadata": {
        "id": "b5278510"
      },
      "outputs": [],
      "source": [
        "import cv2\n",
        "import math\n",
        "import datetime\n",
        "import numpy as np\n",
        "import matplotlib.pyplot as plt\n",
        "\n",
        "\n",
        "\n",
        "center = (400 , 400)\n",
        "r = 200\n",
        "\n",
        "image = np.ones((800,800,3),np.uint8)*220\n",
        "\n",
        "\n",
        "def get_ticks():\n",
        "\n",
        "    init_point = []\n",
        "    dest_point = []\n",
        "\n",
        "    for i in range(0,360,6):\n",
        "        init_x = int(center[0] + r * math.cos(math.radians(i)))\n",
        "        init_y = int(center[1] + r * math.sin(math.radians(i)))\n",
        "\n",
        "        init_point.append((init_x,init_y))\n",
        "\n",
        "    for i in range(0,360,6):\n",
        "        dest_x = int(center[0] + (r-20) * math.cos(math.radians(i)))\n",
        "        dest_y = int(center[1] + (r-20) * math.sin(math.radians(i)))\n",
        "\n",
        "        dest_point.append((dest_x,dest_y))\n",
        "\n",
        "    return init_point , dest_point\n",
        "\n",
        "\n"
      ]
    },
    {
      "cell_type": "code",
      "execution_count": null,
      "id": "e4a30b05",
      "metadata": {
        "id": "e4a30b05"
      },
      "outputs": [],
      "source": [
        "def digitaltime(h,m,s):\n",
        "\n",
        "    time = \"\"\n",
        "    hour = \"\"\n",
        "    minute = \"\"\n",
        "    second = \"\"\n",
        "\n",
        "    if(h<10):\n",
        "        hour = \"0{}:\".format(h)\n",
        "    else:\n",
        "        hour = \"{}:\".format(h)\n",
        "    if(m<10):\n",
        "        minute = \"0{}:\".format(m)\n",
        "    else:\n",
        "        minute = \"{}:\".format(m)\n",
        "    if(s<10):\n",
        "        second = \"0{}\".format(s)\n",
        "    else:\n",
        "        second = \"{}\".format(s)\n",
        "\n",
        "    time = hour + minute + second\n",
        "\n",
        "    return time\n"
      ]
    },
    {
      "cell_type": "code",
      "execution_count": null,
      "id": "be67c5d6",
      "metadata": {
        "id": "be67c5d6"
      },
      "outputs": [],
      "source": [
        "def draw_time(image):\n",
        "\n",
        "\n",
        "    time_now = datetime.datetime.now().time()\n",
        "    hour = math.fmod(time_now.hour, 12)\n",
        "    minute = time_now.minute\n",
        "    second = time_now.second\n",
        "\n",
        "    second_angle = math.fmod(second * 6 + 270, 360)\n",
        "    minute_angle = math.fmod(minute * 6 + 270, 360)\n",
        "    hour_angle = math.fmod((hour*30) + (minute/2) + 270, 360)\n",
        "\n",
        "    second_x = int(center[0] + (r-25)* math.cos( math.radians(second_angle)) )\n",
        "    second_y = int(center[1] + (r-25)* math.sin( math.radians(second_angle)) )\n",
        "    cv2.line(image, center, (second_x, second_y), (0,255,0), 2)\n",
        "\n",
        "\n",
        "    minute_x = int(center[0] + (r-60)* math.cos( math.radians(minute_angle)) )\n",
        "    minute_y = int(center[1] + (r-60)* math.sin( math.radians(minute_angle)) )\n",
        "    cv2.line(image, center, (minute_x, minute_y), (0,255,255), 3)\n",
        "\n",
        "\n",
        "    hour_x = int(center[0] + (r-100)* math.cos( math.radians(hour_angle)) )\n",
        "    hour_y = int(center[1] + (r-100)* math.sin( math.radians(hour_angle) ))\n",
        "    cv2.line(image, center, (hour_x, hour_y), (0,0,255), 5)\n",
        "\n",
        "    cv2.circle(image, center, 5, (255,255,255) , 3)\n",
        "\n",
        "    time = digitaltime(int(hour),minute,second)\n",
        "    date = datetime.datetime.now().strftime(\"%d %B %Y\")\n",
        "\n",
        "    cv2.putText( image , \"time : %s\"%time , (100,75) , cv2.FONT_HERSHEY_DUPLEX , 1.6 , (255,0,0) , 1 , cv2.LINE_AA )\n",
        "    cv2.putText( image , \"Date : %s\"%date , (100,150) , cv2.FONT_HERSHEY_DUPLEX , 1.6 , (255,0,0) , 1 , cv2.LINE_AA )\n",
        "\n",
        "    return image"
      ]
    },
    {
      "cell_type": "code",
      "execution_count": null,
      "id": "a5db3eeb",
      "metadata": {
        "id": "a5db3eeb"
      },
      "outputs": [],
      "source": [
        "init_p, dest_p = get_ticks()\n",
        "\n",
        "\n",
        "cv2.circle(image, center, r+10, (0,0,0), -1)\n",
        "\n",
        "for i in range(len(init_p)):\n",
        "    if i % 5 == 0:\n",
        "        cv2.line(image, init_p[i], dest_p[i], (255,255,255) , 3)\n",
        "\n",
        "    else:\n",
        "        cv2.circle(image, init_p[i], 5, (255,255,255) , -1)\n",
        "\n",
        "\n",
        "\n",
        "\n",
        "while True:\n",
        "    image_original = image.copy()\n",
        "\n",
        "    clock_face = draw_time(image_original)\n",
        "\n",
        "    cv2.imshow('clock', image_original)\n",
        "    if(cv2.waitKey(1)==ord('q')):\n",
        "        break\n",
        "\n",
        "cv2.destroyAllWindows()"
      ]
    },
    {
      "cell_type": "code",
      "execution_count": null,
      "id": "3c6567e5",
      "metadata": {
        "id": "3c6567e5"
      },
      "outputs": [],
      "source": []
    },
    {
      "cell_type": "code",
      "execution_count": null,
      "id": "d460372b",
      "metadata": {
        "id": "d460372b"
      },
      "outputs": [],
      "source": []
    },
    {
      "cell_type": "code",
      "execution_count": null,
      "id": "df545db5",
      "metadata": {
        "id": "df545db5"
      },
      "outputs": [],
      "source": []
    }
  ],
  "metadata": {
    "kernelspec": {
      "display_name": "Python 3 (ipykernel)",
      "language": "python",
      "name": "python3"
    },
    "language_info": {
      "codemirror_mode": {
        "name": "ipython",
        "version": 3
      },
      "file_extension": ".py",
      "mimetype": "text/x-python",
      "name": "python",
      "nbconvert_exporter": "python",
      "pygments_lexer": "ipython3",
      "version": "3.9.7"
    },
    "colab": {
      "provenance": []
    }
  },
  "nbformat": 4,
  "nbformat_minor": 5
}